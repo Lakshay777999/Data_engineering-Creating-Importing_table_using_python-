{
 "cells": [
  {
   "cell_type": "code",
   "execution_count": 2,
   "id": "2c8256e7",
   "metadata": {},
   "outputs": [
    {
     "name": "stdout",
     "output_type": "stream",
     "text": [
      "zsh:1: command not found: pip\n",
      "zsh:1: command not found: pip\n"
     ]
    }
   ],
   "source": [
    "!pip install pandas\n",
    "!pip install psycopg2\n"
   ]
  },
  {
   "cell_type": "code",
   "execution_count": 3,
   "id": "47500d21",
   "metadata": {},
   "outputs": [
    {
     "name": "stdout",
     "output_type": "stream",
     "text": [
      "Requirement already satisfied: psycopg2-binary in /Users/lakshaytyagi/opt/anaconda3/lib/python3.9/site-packages (2.9.5)\n",
      "Note: you may need to restart the kernel to use updated packages.\n"
     ]
    }
   ],
   "source": [
    "pip install psycopg2-binary"
   ]
  },
  {
   "cell_type": "code",
   "execution_count": 6,
   "id": "3ea162a2",
   "metadata": {},
   "outputs": [
    {
     "name": "stdout",
     "output_type": "stream",
     "text": [
      "Requirement already satisfied: pandas in /Users/lakshaytyagi/opt/anaconda3/lib/python3.9/site-packages (1.4.2)\n",
      "Requirement already satisfied: python-dateutil>=2.8.1 in /Users/lakshaytyagi/opt/anaconda3/lib/python3.9/site-packages (from pandas) (2.8.2)\n",
      "Requirement already satisfied: pytz>=2020.1 in /Users/lakshaytyagi/opt/anaconda3/lib/python3.9/site-packages (from pandas) (2021.3)\n",
      "Requirement already satisfied: numpy>=1.18.5 in /Users/lakshaytyagi/opt/anaconda3/lib/python3.9/site-packages (from pandas) (1.21.5)\n",
      "Requirement already satisfied: six>=1.5 in /Users/lakshaytyagi/opt/anaconda3/lib/python3.9/site-packages (from python-dateutil>=2.8.1->pandas) (1.16.0)\n",
      "Note: you may need to restart the kernel to use updated packages.\n"
     ]
    }
   ],
   "source": [
    "pip install pandas"
   ]
  },
  {
   "cell_type": "code",
   "execution_count": 7,
   "id": "1e07df6f",
   "metadata": {},
   "outputs": [],
   "source": [
    "import psycopg2\n",
    "import pandas as pd"
   ]
  },
  {
   "cell_type": "code",
   "execution_count": 40,
   "id": "d5accee5",
   "metadata": {},
   "outputs": [],
   "source": [
    "def create_database():\n",
    "    conn = psycopg2.connect(host=\"localhost\",database=\"postgres\",user=\"postgres\",password=\"Jaisiaram@30\")\n",
    "    curr=conn.cursor()\n",
    "    conn.set_session(autocommit=True) \n",
    "   \n",
    "  \n",
    "    curr.execute('create database sports')\n",
    "    conn.close()\n",
    "    conn = psycopg2.connect(host=\"localhost\",database=\"sports\",user=\"postgres\",password=\"Jaisiaram@30\")\n",
    "    curr=conn.cursor()\n",
    "    \n",
    "    return conn,curr\n",
    "    \n",
    "    \n",
    "    "
   ]
  },
  {
   "cell_type": "code",
   "execution_count": 16,
   "id": "de05b08d",
   "metadata": {},
   "outputs": [
    {
     "data": {
      "text/plain": [
       "(<connection object at 0x7fe6da77aac0; dsn: 'user=postgres password=xxx dbname=cars host=localhost', closed: 0>,\n",
       " <cursor object at 0x7fe690341b80; closed: 0>)"
      ]
     },
     "execution_count": 16,
     "metadata": {},
     "output_type": "execute_result"
    }
   ],
   "source": [
    "create_database()"
   ]
  },
  {
   "cell_type": "code",
   "execution_count": 20,
   "id": "236ff214",
   "metadata": {},
   "outputs": [],
   "source": [
    "try:\n",
    " conn = psycopg2.connect(host=\"localhost\",database=\"cars\",user=\"postgres\",password=\"Jaisiaram@30\")\n",
    " curr=conn.cursor()\n",
    "except psycopg2.Error as e:\n",
    "    print(e)  "
   ]
  },
  {
   "cell_type": "code",
   "execution_count": 27,
   "id": "599c024c",
   "metadata": {},
   "outputs": [],
   "source": [
    "car_price=pd.read_csv('car_prices.csv')"
   ]
  },
  {
   "cell_type": "code",
   "execution_count": 30,
   "id": "28d8e0b5",
   "metadata": {},
   "outputs": [
    {
     "data": {
      "text/html": [
       "<div>\n",
       "<style scoped>\n",
       "    .dataframe tbody tr th:only-of-type {\n",
       "        vertical-align: middle;\n",
       "    }\n",
       "\n",
       "    .dataframe tbody tr th {\n",
       "        vertical-align: top;\n",
       "    }\n",
       "\n",
       "    .dataframe thead th {\n",
       "        text-align: right;\n",
       "    }\n",
       "</style>\n",
       "<table border=\"1\" class=\"dataframe\">\n",
       "  <thead>\n",
       "    <tr style=\"text-align: right;\">\n",
       "      <th></th>\n",
       "      <th>make</th>\n",
       "      <th>model</th>\n",
       "      <th>year</th>\n",
       "      <th>mileage</th>\n",
       "      <th>price</th>\n",
       "      <th>color</th>\n",
       "      <th>state</th>\n",
       "    </tr>\n",
       "  </thead>\n",
       "  <tbody>\n",
       "    <tr>\n",
       "      <th>0</th>\n",
       "      <td>Chevrolet</td>\n",
       "      <td>Cruze</td>\n",
       "      <td>2011</td>\n",
       "      <td>99157</td>\n",
       "      <td>37488</td>\n",
       "      <td>white</td>\n",
       "      <td>TX</td>\n",
       "    </tr>\n",
       "    <tr>\n",
       "      <th>1</th>\n",
       "      <td>Toyota</td>\n",
       "      <td>Cruze</td>\n",
       "      <td>2017</td>\n",
       "      <td>19882</td>\n",
       "      <td>34176</td>\n",
       "      <td>red</td>\n",
       "      <td>IL</td>\n",
       "    </tr>\n",
       "    <tr>\n",
       "      <th>2</th>\n",
       "      <td>Chevrolet</td>\n",
       "      <td>Altima</td>\n",
       "      <td>2011</td>\n",
       "      <td>77718</td>\n",
       "      <td>40297</td>\n",
       "      <td>blue</td>\n",
       "      <td>CA</td>\n",
       "    </tr>\n",
       "    <tr>\n",
       "      <th>3</th>\n",
       "      <td>Nissan</td>\n",
       "      <td>Fusion</td>\n",
       "      <td>2012</td>\n",
       "      <td>83613</td>\n",
       "      <td>43492</td>\n",
       "      <td>silver</td>\n",
       "      <td>TX</td>\n",
       "    </tr>\n",
       "    <tr>\n",
       "      <th>4</th>\n",
       "      <td>Ford</td>\n",
       "      <td>Cruze</td>\n",
       "      <td>2016</td>\n",
       "      <td>95349</td>\n",
       "      <td>26655</td>\n",
       "      <td>red</td>\n",
       "      <td>NY</td>\n",
       "    </tr>\n",
       "  </tbody>\n",
       "</table>\n",
       "</div>"
      ],
      "text/plain": [
       "        make   model  year  mileage  price   color state\n",
       "0  Chevrolet   Cruze  2011    99157  37488   white    TX\n",
       "1     Toyota   Cruze  2017    19882  34176     red    IL\n",
       "2  Chevrolet  Altima  2011    77718  40297    blue    CA\n",
       "3     Nissan  Fusion  2012    83613  43492  silver    TX\n",
       "4       Ford   Cruze  2016    95349  26655     red    NY"
      ]
     },
     "execution_count": 30,
     "metadata": {},
     "output_type": "execute_result"
    }
   ],
   "source": [
    "car_price.head()"
   ]
  },
  {
   "cell_type": "code",
   "execution_count": 29,
   "id": "a2353fca",
   "metadata": {},
   "outputs": [],
   "source": [
    "car_price=car_price.drop(['date'],axis=1)"
   ]
  },
  {
   "cell_type": "code",
   "execution_count": 35,
   "id": "2c52f530",
   "metadata": {},
   "outputs": [],
   "source": [
    "car_price_test=pd.read_csv('meets.csv')"
   ]
  },
  {
   "cell_type": "code",
   "execution_count": 36,
   "id": "028675ed",
   "metadata": {},
   "outputs": [
    {
     "data": {
      "text/html": [
       "<div>\n",
       "<style scoped>\n",
       "    .dataframe tbody tr th:only-of-type {\n",
       "        vertical-align: middle;\n",
       "    }\n",
       "\n",
       "    .dataframe tbody tr th {\n",
       "        vertical-align: top;\n",
       "    }\n",
       "\n",
       "    .dataframe thead th {\n",
       "        text-align: right;\n",
       "    }\n",
       "</style>\n",
       "<table border=\"1\" class=\"dataframe\">\n",
       "  <thead>\n",
       "    <tr style=\"text-align: right;\">\n",
       "      <th></th>\n",
       "      <th>MeetID</th>\n",
       "      <th>MeetPath</th>\n",
       "      <th>Federation</th>\n",
       "      <th>Date</th>\n",
       "      <th>MeetCountry</th>\n",
       "      <th>MeetState</th>\n",
       "      <th>MeetTown</th>\n",
       "      <th>MeetName</th>\n",
       "    </tr>\n",
       "  </thead>\n",
       "  <tbody>\n",
       "    <tr>\n",
       "      <th>0</th>\n",
       "      <td>0</td>\n",
       "      <td>365strong/1601</td>\n",
       "      <td>365Strong</td>\n",
       "      <td>2016-10-29</td>\n",
       "      <td>USA</td>\n",
       "      <td>NC</td>\n",
       "      <td>Charlotte</td>\n",
       "      <td>2016 Junior &amp; Senior National Powerlifting Cha...</td>\n",
       "    </tr>\n",
       "    <tr>\n",
       "      <th>1</th>\n",
       "      <td>1</td>\n",
       "      <td>365strong/1602</td>\n",
       "      <td>365Strong</td>\n",
       "      <td>2016-11-19</td>\n",
       "      <td>USA</td>\n",
       "      <td>MO</td>\n",
       "      <td>Ozark</td>\n",
       "      <td>Thanksgiving Powerlifting Classic</td>\n",
       "    </tr>\n",
       "    <tr>\n",
       "      <th>2</th>\n",
       "      <td>2</td>\n",
       "      <td>365strong/1603</td>\n",
       "      <td>365Strong</td>\n",
       "      <td>2016-07-09</td>\n",
       "      <td>USA</td>\n",
       "      <td>NC</td>\n",
       "      <td>Charlotte</td>\n",
       "      <td>Charlotte Europa Games</td>\n",
       "    </tr>\n",
       "    <tr>\n",
       "      <th>3</th>\n",
       "      <td>3</td>\n",
       "      <td>365strong/1604</td>\n",
       "      <td>365Strong</td>\n",
       "      <td>2016-06-11</td>\n",
       "      <td>USA</td>\n",
       "      <td>SC</td>\n",
       "      <td>Rock Hill</td>\n",
       "      <td>Carolina Cup Push Pull Challenge</td>\n",
       "    </tr>\n",
       "    <tr>\n",
       "      <th>4</th>\n",
       "      <td>4</td>\n",
       "      <td>365strong/1605</td>\n",
       "      <td>365Strong</td>\n",
       "      <td>2016-04-10</td>\n",
       "      <td>USA</td>\n",
       "      <td>SC</td>\n",
       "      <td>Rock Hill</td>\n",
       "      <td>Eastern USA Challenge</td>\n",
       "    </tr>\n",
       "  </tbody>\n",
       "</table>\n",
       "</div>"
      ],
      "text/plain": [
       "   MeetID        MeetPath Federation        Date MeetCountry MeetState  \\\n",
       "0       0  365strong/1601  365Strong  2016-10-29         USA        NC   \n",
       "1       1  365strong/1602  365Strong  2016-11-19         USA        MO   \n",
       "2       2  365strong/1603  365Strong  2016-07-09         USA        NC   \n",
       "3       3  365strong/1604  365Strong  2016-06-11         USA        SC   \n",
       "4       4  365strong/1605  365Strong  2016-04-10         USA        SC   \n",
       "\n",
       "    MeetTown                                           MeetName  \n",
       "0  Charlotte  2016 Junior & Senior National Powerlifting Cha...  \n",
       "1      Ozark                  Thanksgiving Powerlifting Classic  \n",
       "2  Charlotte                             Charlotte Europa Games  \n",
       "3  Rock Hill                   Carolina Cup Push Pull Challenge  \n",
       "4  Rock Hill                              Eastern USA Challenge  "
      ]
     },
     "execution_count": 36,
     "metadata": {},
     "output_type": "execute_result"
    }
   ],
   "source": [
    "car_price_test.head()"
   ]
  },
  {
   "cell_type": "code",
   "execution_count": 41,
   "id": "9e9c02f2",
   "metadata": {},
   "outputs": [
    {
     "data": {
      "text/plain": [
       "(<connection object at 0x7fe6908fc430; dsn: 'user=postgres password=xxx dbname=cars host=localhost', closed: 0>,\n",
       " <cursor object at 0x7fe6908198b0; closed: 0>)"
      ]
     },
     "execution_count": 41,
     "metadata": {},
     "output_type": "execute_result"
    }
   ],
   "source": [
    "create_database()"
   ]
  },
  {
   "cell_type": "code",
   "execution_count": 50,
   "id": "70b018c1",
   "metadata": {},
   "outputs": [
    {
     "ename": "InFailedSqlTransaction",
     "evalue": "current transaction is aborted, commands ignored until end of transaction block\n",
     "output_type": "error",
     "traceback": [
      "\u001b[0;31m---------------------------------------------------------------------------\u001b[0m",
      "\u001b[0;31mInFailedSqlTransaction\u001b[0m                    Traceback (most recent call last)",
      "Input \u001b[0;32mIn [50]\u001b[0m, in \u001b[0;36m<cell line: 1>\u001b[0;34m()\u001b[0m\n\u001b[0;32m----> 1\u001b[0m \u001b[43mcurr\u001b[49m\u001b[38;5;241;43m.\u001b[39;49m\u001b[43mexecute\u001b[49m\u001b[43m(\u001b[49m\u001b[38;5;124;43m\"\u001b[39;49m\u001b[38;5;124;43mcreate table if not exists meet(playerId serial PRIMARY KEY,MeetID int,MeetPath varchar,Federation varchar,Date Date,MeetCountry char,MeetState char,MeetTown char, MeetName varchar)\u001b[39;49m\u001b[38;5;124;43m\"\u001b[39;49m\u001b[43m)\u001b[49m\n",
      "\u001b[0;31mInFailedSqlTransaction\u001b[0m: current transaction is aborted, commands ignored until end of transaction block\n"
     ]
    }
   ],
   "source": [
    "\n",
    " curr.execute(\"create table if not exists meet(playerId serial PRIMARY KEY,MeetID int,MeetPath varchar,Federation varchar,Date Date,MeetCountry char,MeetState char,MeetTown char, MeetName varchar)\")\n"
   ]
  },
  {
   "cell_type": "code",
   "execution_count": 45,
   "id": "3ddc8ab9",
   "metadata": {},
   "outputs": [],
   "source": [
    "curr.close()"
   ]
  },
  {
   "cell_type": "code",
   "execution_count": 46,
   "id": "917d3087",
   "metadata": {},
   "outputs": [
    {
     "ename": "IndentationError",
     "evalue": "unexpected indent (1440803822.py, line 2)",
     "output_type": "error",
     "traceback": [
      "\u001b[0;36m  Input \u001b[0;32mIn [46]\u001b[0;36m\u001b[0m\n\u001b[0;31m    curr=conn.cursor()\u001b[0m\n\u001b[0m    ^\u001b[0m\n\u001b[0;31mIndentationError\u001b[0m\u001b[0;31m:\u001b[0m unexpected indent\n"
     ]
    }
   ],
   "source": [
    " conn = psycopg2.connect(host=\"localhost\",database=\"sports\",user=\"postgres\",password=\"Jaisiaram@30\")\n",
    "    curr=conn.cursor()"
   ]
  },
  {
   "cell_type": "code",
   "execution_count": 52,
   "id": "e0297988",
   "metadata": {},
   "outputs": [],
   "source": [
    " conn = psycopg2.connect(host=\"localhost\",database=\"sports\",user=\"postgres\",password=\"Jaisiaram@30\")\n",
    "curr=conn.cursor()\n",
    "conn.set_session(autocommit=True) "
   ]
  },
  {
   "cell_type": "code",
   "execution_count": 53,
   "id": "595536df",
   "metadata": {},
   "outputs": [],
   "source": [
    "\n",
    " curr.execute(\"create table if not exists meet(playerId serial PRIMARY KEY,MeetID int,MeetPath varchar,Federation varchar,Date Date,MeetCountry char,MeetState char,MeetTown char, MeetName varchar)\")\n"
   ]
  },
  {
   "cell_type": "code",
   "execution_count": 56,
   "id": "9e650cf0",
   "metadata": {},
   "outputs": [
    {
     "data": {
      "text/plain": [
       "Index(['MeetID', 'MeetPath', 'Federation', 'Date', 'MeetCountry', 'MeetState',\n",
       "       'MeetTown', 'MeetName'],\n",
       "      dtype='object')"
      ]
     },
     "execution_count": 56,
     "metadata": {},
     "output_type": "execute_result"
    }
   ],
   "source": [
    "car_price_test.columns"
   ]
  },
  {
   "cell_type": "code",
   "execution_count": 60,
   "id": "47a3965e",
   "metadata": {},
   "outputs": [],
   "source": [
    "query_execute=(\"\"\"insert into meet(MeetID, MeetPath, Federation, Date, MeetCountry, MeetState,\n",
    "       MeetTown, MeetName) values(%s,%s,%s,%s,%s,%s,%s,%s)\"\"\")"
   ]
  },
  {
   "cell_type": "code",
   "execution_count": 67,
   "id": "95c88971",
   "metadata": {},
   "outputs": [],
   "source": [
    "for i, row in car_price_test.iterrows():\n",
    "     curr.execute(query_execute,list(row))"
   ]
  },
  {
   "cell_type": "code",
   "execution_count": 66,
   "id": "31989407",
   "metadata": {},
   "outputs": [],
   "source": [
    "curr.execute(\"alter table meet alter column MeetCountry type varchar\")"
   ]
  },
  {
   "cell_type": "code",
   "execution_count": null,
   "id": "4721c575",
   "metadata": {},
   "outputs": [],
   "source": []
  }
 ],
 "metadata": {
  "kernelspec": {
   "display_name": "Python 3 (ipykernel)",
   "language": "python",
   "name": "python3"
  },
  "language_info": {
   "codemirror_mode": {
    "name": "ipython",
    "version": 3
   },
   "file_extension": ".py",
   "mimetype": "text/x-python",
   "name": "python",
   "nbconvert_exporter": "python",
   "pygments_lexer": "ipython3",
   "version": "3.9.12"
  }
 },
 "nbformat": 4,
 "nbformat_minor": 5
}
