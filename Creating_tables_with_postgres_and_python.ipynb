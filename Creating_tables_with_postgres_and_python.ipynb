{
 "cells": [
  {
   "cell_type": "code",
   "execution_count": 1,
   "id": "0e0a9ccc",
   "metadata": {},
   "outputs": [
    {
     "name": "stdout",
     "output_type": "stream",
     "text": [
      "Collecting psycopg2\n",
      "  Downloading psycopg2-2.9.5.tar.gz (384 kB)\n",
      "\u001b[K     |████████████████████████████████| 384 kB 1.0 MB/s eta 0:00:01\n",
      "\u001b[?25hBuilding wheels for collected packages: psycopg2\n",
      "  Building wheel for psycopg2 (setup.py) ... \u001b[?25lerror\n",
      "\u001b[31m  ERROR: Command errored out with exit status 1:\n",
      "   command: /Users/lakshaytyagi/opt/anaconda3/bin/python -u -c 'import io, os, sys, setuptools, tokenize; sys.argv[0] = '\"'\"'/private/var/folders/yb/_y3dg1ds2cj67d0_pctvrvcr0000gp/T/pip-install-rh6j3aet/psycopg2_3992b1a7dee94e7daae6e6f8fdd71dbc/setup.py'\"'\"'; __file__='\"'\"'/private/var/folders/yb/_y3dg1ds2cj67d0_pctvrvcr0000gp/T/pip-install-rh6j3aet/psycopg2_3992b1a7dee94e7daae6e6f8fdd71dbc/setup.py'\"'\"';f = getattr(tokenize, '\"'\"'open'\"'\"', open)(__file__) if os.path.exists(__file__) else io.StringIO('\"'\"'from setuptools import setup; setup()'\"'\"');code = f.read().replace('\"'\"'\\r\\n'\"'\"', '\"'\"'\\n'\"'\"');f.close();exec(compile(code, __file__, '\"'\"'exec'\"'\"'))' bdist_wheel -d /private/var/folders/yb/_y3dg1ds2cj67d0_pctvrvcr0000gp/T/pip-wheel-w5l1uycq\n",
      "       cwd: /private/var/folders/yb/_y3dg1ds2cj67d0_pctvrvcr0000gp/T/pip-install-rh6j3aet/psycopg2_3992b1a7dee94e7daae6e6f8fdd71dbc/\n",
      "  Complete output (34 lines):\n",
      "  running bdist_wheel\n",
      "  running build\n",
      "  running build_py\n",
      "  creating build\n",
      "  creating build/lib.macosx-10.9-x86_64-3.9\n",
      "  creating build/lib.macosx-10.9-x86_64-3.9/psycopg2\n",
      "  copying lib/_json.py -> build/lib.macosx-10.9-x86_64-3.9/psycopg2\n",
      "  copying lib/extras.py -> build/lib.macosx-10.9-x86_64-3.9/psycopg2\n",
      "  copying lib/errorcodes.py -> build/lib.macosx-10.9-x86_64-3.9/psycopg2\n",
      "  copying lib/tz.py -> build/lib.macosx-10.9-x86_64-3.9/psycopg2\n",
      "  copying lib/_range.py -> build/lib.macosx-10.9-x86_64-3.9/psycopg2\n",
      "  copying lib/_ipaddress.py -> build/lib.macosx-10.9-x86_64-3.9/psycopg2\n",
      "  copying lib/__init__.py -> build/lib.macosx-10.9-x86_64-3.9/psycopg2\n",
      "  copying lib/extensions.py -> build/lib.macosx-10.9-x86_64-3.9/psycopg2\n",
      "  copying lib/errors.py -> build/lib.macosx-10.9-x86_64-3.9/psycopg2\n",
      "  copying lib/sql.py -> build/lib.macosx-10.9-x86_64-3.9/psycopg2\n",
      "  copying lib/pool.py -> build/lib.macosx-10.9-x86_64-3.9/psycopg2\n",
      "  running build_ext\n",
      "  building 'psycopg2._psycopg' extension\n",
      "  creating build/temp.macosx-10.9-x86_64-3.9\n",
      "  creating build/temp.macosx-10.9-x86_64-3.9/psycopg\n",
      "  clang -Wno-unused-result -Wsign-compare -Wunreachable-code -DNDEBUG -fwrapv -O2 -Wall -fPIC -O2 -isystem /Users/lakshaytyagi/opt/anaconda3/include -arch x86_64 -I/Users/lakshaytyagi/opt/anaconda3/include -fPIC -O2 -isystem /Users/lakshaytyagi/opt/anaconda3/include -arch x86_64 \"-DPSYCOPG_VERSION=2.9.5 (dt dec pq3 ext lo64)\" -DPSYCOPG_DEBUG=1 -DPG_VERSION_NUM=140004 -DHAVE_LO64=1 -DPSYCOPG_DEBUG=1 -I/Users/lakshaytyagi/opt/anaconda3/include/python3.9 -I. -I/opt/homebrew/include -I/opt/homebrew/include/postgresql/server -I/opt/homebrew/Cellar/icu4c/70.1/include -I/opt/homebrew/opt/openssl@1.1/include -I/opt/homebrew/opt/readline/include -I/opt/homebrew/Cellar/lz4/1.9.3/include -c psycopg/adapter_asis.c -o build/temp.macosx-10.9-x86_64-3.9/psycopg/adapter_asis.o\n",
      "  xcrun: error: invalid active developer path (/Library/Developer/CommandLineTools), missing xcrun at: /Library/Developer/CommandLineTools/usr/bin/xcrun\n",
      "  \n",
      "  It appears you are missing some prerequisite to build the package from source.\n",
      "  \n",
      "  You may install a binary package by installing 'psycopg2-binary' from PyPI.\n",
      "  If you want to install psycopg2 from source, please install the packages\n",
      "  required for the build and try again.\n",
      "  \n",
      "  For further information please check the 'doc/src/install.rst' file (also at\n",
      "  <https://www.psycopg.org/docs/install.html>).\n",
      "  \n",
      "  error: command '/usr/bin/clang' failed with exit code 1\n",
      "  ----------------------------------------\u001b[0m\n",
      "\u001b[31m  ERROR: Failed building wheel for psycopg2\u001b[0m\n",
      "\u001b[?25h  Running setup.py clean for psycopg2\n",
      "Failed to build psycopg2\n",
      "Installing collected packages: psycopg2\n",
      "    Running setup.py install for psycopg2 ... \u001b[?25lerror\n",
      "\u001b[31m    ERROR: Command errored out with exit status 1:\n",
      "     command: /Users/lakshaytyagi/opt/anaconda3/bin/python -u -c 'import io, os, sys, setuptools, tokenize; sys.argv[0] = '\"'\"'/private/var/folders/yb/_y3dg1ds2cj67d0_pctvrvcr0000gp/T/pip-install-rh6j3aet/psycopg2_3992b1a7dee94e7daae6e6f8fdd71dbc/setup.py'\"'\"'; __file__='\"'\"'/private/var/folders/yb/_y3dg1ds2cj67d0_pctvrvcr0000gp/T/pip-install-rh6j3aet/psycopg2_3992b1a7dee94e7daae6e6f8fdd71dbc/setup.py'\"'\"';f = getattr(tokenize, '\"'\"'open'\"'\"', open)(__file__) if os.path.exists(__file__) else io.StringIO('\"'\"'from setuptools import setup; setup()'\"'\"');code = f.read().replace('\"'\"'\\r\\n'\"'\"', '\"'\"'\\n'\"'\"');f.close();exec(compile(code, __file__, '\"'\"'exec'\"'\"'))' install --record /private/var/folders/yb/_y3dg1ds2cj67d0_pctvrvcr0000gp/T/pip-record-v6zfc8vv/install-record.txt --single-version-externally-managed --compile --install-headers /Users/lakshaytyagi/opt/anaconda3/include/python3.9/psycopg2\n",
      "         cwd: /private/var/folders/yb/_y3dg1ds2cj67d0_pctvrvcr0000gp/T/pip-install-rh6j3aet/psycopg2_3992b1a7dee94e7daae6e6f8fdd71dbc/\n",
      "    Complete output (36 lines):\n",
      "    running install\n",
      "    /Users/lakshaytyagi/opt/anaconda3/lib/python3.9/site-packages/setuptools/command/install.py:34: SetuptoolsDeprecationWarning: setup.py install is deprecated. Use build and pip and other standards-based tools.\n",
      "      warnings.warn(\n",
      "    running build\n",
      "    running build_py\n",
      "    creating build\n",
      "    creating build/lib.macosx-10.9-x86_64-3.9\n",
      "    creating build/lib.macosx-10.9-x86_64-3.9/psycopg2\n",
      "    copying lib/_json.py -> build/lib.macosx-10.9-x86_64-3.9/psycopg2\n",
      "    copying lib/extras.py -> build/lib.macosx-10.9-x86_64-3.9/psycopg2\n",
      "    copying lib/errorcodes.py -> build/lib.macosx-10.9-x86_64-3.9/psycopg2\n",
      "    copying lib/tz.py -> build/lib.macosx-10.9-x86_64-3.9/psycopg2\n",
      "    copying lib/_range.py -> build/lib.macosx-10.9-x86_64-3.9/psycopg2\n",
      "    copying lib/_ipaddress.py -> build/lib.macosx-10.9-x86_64-3.9/psycopg2\n",
      "    copying lib/__init__.py -> build/lib.macosx-10.9-x86_64-3.9/psycopg2\n",
      "    copying lib/extensions.py -> build/lib.macosx-10.9-x86_64-3.9/psycopg2\n",
      "    copying lib/errors.py -> build/lib.macosx-10.9-x86_64-3.9/psycopg2\n",
      "    copying lib/sql.py -> build/lib.macosx-10.9-x86_64-3.9/psycopg2\n",
      "    copying lib/pool.py -> build/lib.macosx-10.9-x86_64-3.9/psycopg2\n",
      "    running build_ext\n",
      "    building 'psycopg2._psycopg' extension\n",
      "    creating build/temp.macosx-10.9-x86_64-3.9\n",
      "    creating build/temp.macosx-10.9-x86_64-3.9/psycopg\n",
      "    clang -Wno-unused-result -Wsign-compare -Wunreachable-code -DNDEBUG -fwrapv -O2 -Wall -fPIC -O2 -isystem /Users/lakshaytyagi/opt/anaconda3/include -arch x86_64 -I/Users/lakshaytyagi/opt/anaconda3/include -fPIC -O2 -isystem /Users/lakshaytyagi/opt/anaconda3/include -arch x86_64 \"-DPSYCOPG_VERSION=2.9.5 (dt dec pq3 ext lo64)\" -DPSYCOPG_DEBUG=1 -DPG_VERSION_NUM=140004 -DHAVE_LO64=1 -DPSYCOPG_DEBUG=1 -I/Users/lakshaytyagi/opt/anaconda3/include/python3.9 -I. -I/opt/homebrew/include -I/opt/homebrew/include/postgresql/server -I/opt/homebrew/Cellar/icu4c/70.1/include -I/opt/homebrew/opt/openssl@1.1/include -I/opt/homebrew/opt/readline/include -I/opt/homebrew/Cellar/lz4/1.9.3/include -c psycopg/adapter_asis.c -o build/temp.macosx-10.9-x86_64-3.9/psycopg/adapter_asis.o\n",
      "    xcrun: error: invalid active developer path (/Library/Developer/CommandLineTools), missing xcrun at: /Library/Developer/CommandLineTools/usr/bin/xcrun\n",
      "    \n",
      "    It appears you are missing some prerequisite to build the package from source.\n",
      "    \n",
      "    You may install a binary package by installing 'psycopg2-binary' from PyPI.\n",
      "    If you want to install psycopg2 from source, please install the packages\n",
      "    required for the build and try again.\n",
      "    \n",
      "    For further information please check the 'doc/src/install.rst' file (also at\n",
      "    <https://www.psycopg.org/docs/install.html>).\n",
      "    \n",
      "    error: command '/usr/bin/clang' failed with exit code 1\n",
      "    ----------------------------------------\u001b[0m\n",
      "\u001b[31mERROR: Command errored out with exit status 1: /Users/lakshaytyagi/opt/anaconda3/bin/python -u -c 'import io, os, sys, setuptools, tokenize; sys.argv[0] = '\"'\"'/private/var/folders/yb/_y3dg1ds2cj67d0_pctvrvcr0000gp/T/pip-install-rh6j3aet/psycopg2_3992b1a7dee94e7daae6e6f8fdd71dbc/setup.py'\"'\"'; __file__='\"'\"'/private/var/folders/yb/_y3dg1ds2cj67d0_pctvrvcr0000gp/T/pip-install-rh6j3aet/psycopg2_3992b1a7dee94e7daae6e6f8fdd71dbc/setup.py'\"'\"';f = getattr(tokenize, '\"'\"'open'\"'\"', open)(__file__) if os.path.exists(__file__) else io.StringIO('\"'\"'from setuptools import setup; setup()'\"'\"');code = f.read().replace('\"'\"'\\r\\n'\"'\"', '\"'\"'\\n'\"'\"');f.close();exec(compile(code, __file__, '\"'\"'exec'\"'\"'))' install --record /private/var/folders/yb/_y3dg1ds2cj67d0_pctvrvcr0000gp/T/pip-record-v6zfc8vv/install-record.txt --single-version-externally-managed --compile --install-headers /Users/lakshaytyagi/opt/anaconda3/include/python3.9/psycopg2 Check the logs for full command output.\u001b[0m\n",
      "\u001b[?25hNote: you may need to restart the kernel to use updated packages.\n"
     ]
    }
   ],
   "source": [
    "pip install psycopg2"
   ]
  },
  {
   "cell_type": "code",
   "execution_count": 2,
   "id": "ce976e7d",
   "metadata": {},
   "outputs": [
    {
     "name": "stdout",
     "output_type": "stream",
     "text": [
      "Collecting psycopg2-binary\n",
      "  Downloading psycopg2_binary-2.9.5-cp39-cp39-macosx_10_15_x86_64.macosx_10_9_intel.macosx_10_9_x86_64.macosx_10_10_intel.macosx_10_10_x86_64.whl (2.2 MB)\n",
      "\u001b[K     |████████████████████████████████| 2.2 MB 3.6 MB/s eta 0:00:01\n",
      "\u001b[?25hInstalling collected packages: psycopg2-binary\n",
      "Successfully installed psycopg2-binary-2.9.5\n",
      "Note: you may need to restart the kernel to use updated packages.\n"
     ]
    }
   ],
   "source": [
    "pip install psycopg2-binary"
   ]
  },
  {
   "cell_type": "code",
   "execution_count": 4,
   "id": "e62419ec",
   "metadata": {},
   "outputs": [],
   "source": [
    "import psycopg2"
   ]
  },
  {
   "cell_type": "code",
   "execution_count": 8,
   "id": "8a808d02",
   "metadata": {},
   "outputs": [],
   "source": [
    "try:\n",
    " conn = psycopg2.connect(host=\"localhost\",database=\"postgres\",user=\"postgres\",password=\"Jaisiaram@30\")\n",
    "except psycopg2.Error as e:\n",
    "    print(e)"
   ]
  },
  {
   "cell_type": "code",
   "execution_count": 9,
   "id": "fe3c183f",
   "metadata": {},
   "outputs": [],
   "source": [
    "try:\n",
    "    curr=conn.cursor()\n",
    "except psycopg2.Error as e:\n",
    "    print(e)    "
   ]
  },
  {
   "cell_type": "code",
   "execution_count": 10,
   "id": "fac65753",
   "metadata": {},
   "outputs": [],
   "source": [
    "conn.set_session(autocommit=True)"
   ]
  },
  {
   "cell_type": "code",
   "execution_count": 11,
   "id": "8ebe8f61",
   "metadata": {},
   "outputs": [],
   "source": [
    "try:\n",
    "    curr.execute('create database findb')\n",
    "except psycopg2.Error as e:\n",
    "    print(e)    "
   ]
  },
  {
   "cell_type": "code",
   "execution_count": 12,
   "id": "10055318",
   "metadata": {},
   "outputs": [],
   "source": [
    "try:\n",
    "    conn.close()\n",
    "except psycopg2.Error as e:\n",
    "    print(e)     \n",
    "    \n",
    "\n",
    "\n",
    "try:\n",
    " conn = psycopg2.connect(host=\"localhost\",database=\"findb\",user=\"postgres\",password=\"Jaisiaram@30\")\n",
    "except psycopg2.Error as e:\n",
    "    print(e)    \n",
    "\n",
    "\n",
    "try:\n",
    "    curr=conn.cursor()\n",
    "except psycopg2.Error as e:\n",
    "    print(e) \n",
    "\n",
    "    \n",
    "    "
   ]
  },
  {
   "cell_type": "code",
   "execution_count": 13,
   "id": "cd13e85a",
   "metadata": {},
   "outputs": [],
   "source": [
    "conn.set_session(autocommit=True)"
   ]
  },
  {
   "cell_type": "code",
   "execution_count": 14,
   "id": "ba6b70cf",
   "metadata": {},
   "outputs": [],
   "source": [
    "try:\n",
    "    curr.execute(\"create table students(student_id int, name varchar, age int , gender varchar , subject varchar , marks int)\")\n",
    "except psycopg2.Error as e:\n",
    "    print(e)     "
   ]
  },
  {
   "cell_type": "code",
   "execution_count": 22,
   "id": "9689fb5e",
   "metadata": {},
   "outputs": [],
   "source": [
    "try: \n",
    "    curr.execute(\"insert into students (student_id, name , age , gender ,subject, marks) values (%s,%s,%s,%s,%s,%s)\",(1,'lakshay tyagi',21,'male','computer science',81))\n",
    "    \n",
    "except psycopg2.Error as e:\n",
    "    print(e)    "
   ]
  },
  {
   "cell_type": "code",
   "execution_count": null,
   "id": "e3c1336a",
   "metadata": {},
   "outputs": [],
   "source": [
    "try:\n",
    "   curr.execute('select * from students')\n",
    "    \n",
    "except psycopg2.Error as e:\n",
    "    print(e) \n",
    "    \n",
    "    \n",
    "row=curr.fetchone()\n",
    "print(row)\n",
    "while(row):\n",
    "   print(row)\n",
    "   row=curr.fetchone()"
   ]
  },
  {
   "cell_type": "code",
   "execution_count": null,
   "id": "7cd6797d",
   "metadata": {},
   "outputs": [],
   "source": [
    "try:\n",
    "   curr.execute('select * from students')\n",
    "    \n",
    "except psycopg2.Error as e:\n",
    "    print(e) \n",
    "    \n",
    "    \n",
    "row=curr.fetchone()\n",
    "print(row)\n",
    "while(row):\n",
    "   print(row)\n",
    "   row=curr.fetchone()"
   ]
  },
  {
   "cell_type": "code",
   "execution_count": null,
   "id": "5f46d719",
   "metadata": {},
   "outputs": [],
   "source": [
    "try:\n",
    "conn.set_session(autocommit=True)\n",
    "except psycopg2.Error as e:\n",
    "    print(e) "
   ]
  },
  {
   "cell_type": "code",
   "execution_count": null,
   "id": "81d03106",
   "metadata": {},
   "outputs": [],
   "source": [
    "try:\n",
    "   curr.execute('select * from students')\n",
    "    \n",
    "except psycopg2.Error as e:\n",
    "    print(e) "
   ]
  },
  {
   "cell_type": "code",
   "execution_count": 23,
   "id": "6cd6aab9",
   "metadata": {},
   "outputs": [
    {
     "name": "stdout",
     "output_type": "stream",
     "text": [
      "(1, 'lakshay tyagi', 21, 'male', 'computer science', 81)\n",
      "(1, 'lakshay tyagi', 21, 'male', 'computer science', 81)\n"
     ]
    }
   ],
   "source": [
    "try:\n",
    "   curr.execute('select * from students')\n",
    "    \n",
    "except psycopg2.Error as e:\n",
    "    print(e) \n",
    "    \n",
    "    \n",
    "row=curr.fetchone()\n",
    "print(row)\n",
    "while(row):\n",
    "   print(row)\n",
    "   row=curr.fetchone()"
   ]
  },
  {
   "cell_type": "code",
   "execution_count": 21,
   "id": "097212a0",
   "metadata": {},
   "outputs": [],
   "source": [
    "try:\n",
    "   curr.execute('delete  from students where student_id=1')\n",
    "    \n",
    "except psycopg2.Error as e:\n",
    "    print(e) "
   ]
  },
  {
   "cell_type": "code",
   "execution_count": 24,
   "id": "33b0dd98",
   "metadata": {},
   "outputs": [
    {
     "name": "stdout",
     "output_type": "stream",
     "text": [
      "(1, 'lakshay tyagi', 21, 'male', 'computer science', 81)\n"
     ]
    }
   ],
   "source": [
    "try:\n",
    "   curr.execute('select * from students')\n",
    "    \n",
    "except psycopg2.Error as e:\n",
    "    print(e) \n",
    "    \n",
    "    \n",
    "row=curr.fetchone()\n",
    "\n",
    "while(row):\n",
    "   print(row)\n",
    "   row=curr.fetchone()"
   ]
  },
  {
   "cell_type": "code",
   "execution_count": 26,
   "id": "2e9c9c7c",
   "metadata": {},
   "outputs": [],
   "source": [
    "curr.close()\n",
    "conn.close()"
   ]
  },
  {
   "cell_type": "code",
   "execution_count": null,
   "id": "90d7ce36",
   "metadata": {},
   "outputs": [],
   "source": []
  }
 ],
 "metadata": {
  "kernelspec": {
   "display_name": "Python 3 (ipykernel)",
   "language": "python",
   "name": "python3"
  },
  "language_info": {
   "codemirror_mode": {
    "name": "ipython",
    "version": 3
   },
   "file_extension": ".py",
   "mimetype": "text/x-python",
   "name": "python",
   "nbconvert_exporter": "python",
   "pygments_lexer": "ipython3",
   "version": "3.9.12"
  }
 },
 "nbformat": 4,
 "nbformat_minor": 5
}
